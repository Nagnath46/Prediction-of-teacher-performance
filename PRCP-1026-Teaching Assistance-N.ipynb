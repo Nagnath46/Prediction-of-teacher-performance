{
 "cells": [
  {
   "cell_type": "markdown",
   "id": "25f50508",
   "metadata": {},
   "source": [
    "# Problem Statement :- \n",
    "                         Task 1: Prepare a complete data analysis report on the given the data set.\n",
    "                         Task 2: Build the model that can accurately predict the performance of the students."
   ]
  },
  {
   "cell_type": "code",
   "execution_count": null,
   "id": "7518d545",
   "metadata": {},
   "outputs": [],
   "source": []
  },
  {
   "cell_type": "code",
   "execution_count": 1,
   "id": "ambient-messaging",
   "metadata": {
    "execution": {
     "iopub.execute_input": "2021-07-05T13:59:24.905929Z",
     "iopub.status.busy": "2021-07-05T13:59:24.905248Z",
     "iopub.status.idle": "2021-07-05T13:59:26.302858Z",
     "shell.execute_reply": "2021-07-05T13:59:26.302077Z",
     "shell.execute_reply.started": "2021-07-05T13:58:54.396798Z"
    },
    "papermill": {
     "duration": 1.433734,
     "end_time": "2021-07-05T13:59:26.303051",
     "exception": false,
     "start_time": "2021-07-05T13:59:24.869317",
     "status": "completed"
    },
    "tags": []
   },
   "outputs": [],
   "source": [
    "import numpy as np\n",
    "import pandas as pd\n",
    "import seaborn as sns\n",
    "import matplotlib.pyplot as plt\n",
    "\n",
    "from sklearn.model_selection import train_test_split\n",
    "from sklearn.model_selection import GridSearchCV\n",
    "from sklearn.preprocessing import StandardScaler\n",
    "from sklearn.preprocessing import Normalizer\n",
    "from sklearn.preprocessing import MinMaxScaler\n",
    "from sklearn.preprocessing import RobustScaler\n",
    "from sklearn.pipeline import Pipeline\n",
    "from sklearn.linear_model import LogisticRegression\n",
    "from sklearn.neural_network import MLPClassifier\n",
    "from sklearn.ensemble import RandomForestClassifier\n",
    "from sklearn.tree import DecisionTreeClassifier\n",
    "from sklearn.ensemble import GradientBoostingClassifier\n",
    "from sklearn.discriminant_analysis import LinearDiscriminantAnalysis\n",
    "from sklearn.svm import SVC\n",
    "\n",
    "import warnings\n",
    "warnings.filterwarnings('ignore')\n",
    "\n",
    "pd.set_option('display.max_rows', 500)\n",
    "pd.set_option('display.max_columns', 500)\n",
    "pd.set_option('display.width', 1000)\n",
    "pd.set_option('max_colwidth', 400) # column width"
   ]
  },
  {
   "cell_type": "markdown",
   "id": "damaged-entertainment",
   "metadata": {
    "papermill": {
     "duration": 0.0195,
     "end_time": "2021-07-05T13:59:26.342926",
     "exception": false,
     "start_time": "2021-07-05T13:59:26.323426",
     "status": "completed"
    },
    "tags": []
   },
   "source": [
    "#  Description\n",
    "\n",
    "The objective of this project is to build a model that can accurately predicts the performance of students.\n",
    "\n",
    "The data includes 4 categorical features, 1 numerical feature, and the target class.\n",
    "\n",
    "Categorical features:\n",
    "- native_teacher\n",
    "- instructor\n",
    "- course\n",
    "- semester\n",
    "\n",
    "Numerical features:\n",
    "- class_size\n",
    "\n",
    "Target variable:\n",
    "- performance"
   ]
  },
  {
   "cell_type": "markdown",
   "id": "grave-heavy",
   "metadata": {
    "papermill": {
     "duration": 0.019492,
     "end_time": "2021-07-05T13:59:26.382000",
     "exception": false,
     "start_time": "2021-07-05T13:59:26.362508",
     "status": "completed"
    },
    "tags": []
   },
   "source": [
    "#  Preprocessing"
   ]
  },
  {
   "cell_type": "markdown",
   "id": "atlantic-vacation",
   "metadata": {
    "papermill": {
     "duration": 0.019277,
     "end_time": "2021-07-05T13:59:26.421162",
     "exception": false,
     "start_time": "2021-07-05T13:59:26.401885",
     "status": "completed"
    },
    "tags": []
   },
   "source": [
    "### Data exploration\n",
    "Load data"
   ]
  },
  {
   "cell_type": "code",
   "execution_count": 2,
   "id": "lucky-capitol",
   "metadata": {
    "execution": {
     "iopub.execute_input": "2021-07-05T13:59:26.467079Z",
     "iopub.status.busy": "2021-07-05T13:59:26.466308Z",
     "iopub.status.idle": "2021-07-05T13:59:26.503694Z",
     "shell.execute_reply": "2021-07-05T13:59:26.503012Z",
     "shell.execute_reply.started": "2021-07-05T13:35:03.046833Z"
    },
    "papermill": {
     "duration": 0.062988,
     "end_time": "2021-07-05T13:59:26.503849",
     "exception": false,
     "start_time": "2021-07-05T13:59:26.440861",
     "status": "completed"
    },
    "tags": []
   },
   "outputs": [
    {
     "data": {
      "text/html": [
       "<div>\n",
       "<style scoped>\n",
       "    .dataframe tbody tr th:only-of-type {\n",
       "        vertical-align: middle;\n",
       "    }\n",
       "\n",
       "    .dataframe tbody tr th {\n",
       "        vertical-align: top;\n",
       "    }\n",
       "\n",
       "    .dataframe thead th {\n",
       "        text-align: right;\n",
       "    }\n",
       "</style>\n",
       "<table border=\"1\" class=\"dataframe\">\n",
       "  <thead>\n",
       "    <tr style=\"text-align: right;\">\n",
       "      <th></th>\n",
       "      <th>native_teacher</th>\n",
       "      <th>instructor</th>\n",
       "      <th>course</th>\n",
       "      <th>semester</th>\n",
       "      <th>class_size</th>\n",
       "      <th>performance</th>\n",
       "    </tr>\n",
       "  </thead>\n",
       "  <tbody>\n",
       "    <tr>\n",
       "      <th>0</th>\n",
       "      <td>1</td>\n",
       "      <td>23</td>\n",
       "      <td>3</td>\n",
       "      <td>1</td>\n",
       "      <td>19</td>\n",
       "      <td>3</td>\n",
       "    </tr>\n",
       "    <tr>\n",
       "      <th>1</th>\n",
       "      <td>2</td>\n",
       "      <td>15</td>\n",
       "      <td>3</td>\n",
       "      <td>1</td>\n",
       "      <td>17</td>\n",
       "      <td>3</td>\n",
       "    </tr>\n",
       "    <tr>\n",
       "      <th>2</th>\n",
       "      <td>1</td>\n",
       "      <td>23</td>\n",
       "      <td>3</td>\n",
       "      <td>2</td>\n",
       "      <td>49</td>\n",
       "      <td>3</td>\n",
       "    </tr>\n",
       "    <tr>\n",
       "      <th>3</th>\n",
       "      <td>1</td>\n",
       "      <td>5</td>\n",
       "      <td>2</td>\n",
       "      <td>2</td>\n",
       "      <td>33</td>\n",
       "      <td>3</td>\n",
       "    </tr>\n",
       "    <tr>\n",
       "      <th>4</th>\n",
       "      <td>2</td>\n",
       "      <td>7</td>\n",
       "      <td>11</td>\n",
       "      <td>2</td>\n",
       "      <td>55</td>\n",
       "      <td>3</td>\n",
       "    </tr>\n",
       "  </tbody>\n",
       "</table>\n",
       "</div>"
      ],
      "text/plain": [
       "   native_teacher  instructor  course  semester  class_size  performance\n",
       "0               1          23       3         1          19            3\n",
       "1               2          15       3         1          17            3\n",
       "2               1          23       3         2          49            3\n",
       "3               1           5       2         2          33            3\n",
       "4               2           7      11         2          55            3"
      ]
     },
     "execution_count": 2,
     "metadata": {},
     "output_type": "execute_result"
    }
   ],
   "source": [
    "df = pd.read_csv('tae.csv', names=['native_teacher', 'instructor', 'course', 'semester', 'class_size', 'performance'])\n",
    "df.head()"
   ]
  },
  {
   "cell_type": "markdown",
   "id": "different-madness",
   "metadata": {
    "papermill": {
     "duration": 0.019973,
     "end_time": "2021-07-05T13:59:26.544670",
     "exception": false,
     "start_time": "2021-07-05T13:59:26.524697",
     "status": "completed"
    },
    "tags": []
   },
   "source": [
    "Because the distribution of the target variable is balanced, we will use accuracy as an evaluation metric and there is no need for oversampling."
   ]
  },
  {
   "cell_type": "code",
   "execution_count": 3,
   "id": "occupied-password",
   "metadata": {
    "execution": {
     "iopub.execute_input": "2021-07-05T13:59:26.628678Z",
     "iopub.status.busy": "2021-07-05T13:59:26.627871Z",
     "iopub.status.idle": "2021-07-05T13:59:26.771643Z",
     "shell.execute_reply": "2021-07-05T13:59:26.771020Z",
     "shell.execute_reply.started": "2021-07-05T13:35:03.078096Z"
    },
    "papermill": {
     "duration": 0.205907,
     "end_time": "2021-07-05T13:59:26.771806",
     "exception": false,
     "start_time": "2021-07-05T13:59:26.565899",
     "status": "completed"
    },
    "tags": []
   },
   "outputs": [
    {
     "data": {
      "image/png": "[encoded data removed]",
      "text/plain": [
       "<Figure size 640x480 with 1 Axes>"
      ]
     },
     "metadata": {},
     "output_type": "display_data"
    }
   ],
   "source": [
    "df_performance = df.groupby('performance')[['native_teacher']].count().reset_index().rename(columns={'native_teacher': 'count'})\n",
    "sns.barplot(x='performance', y='count', data=df_performance, color='tab:blue')\n",
    "plt.show()"
   ]
  },
  {
   "cell_type": "markdown",
   "id": "concerned-sender",
   "metadata": {
    "papermill": {
     "duration": 0.02066,
     "end_time": "2021-07-05T13:59:26.814379",
     "exception": false,
     "start_time": "2021-07-05T13:59:26.793719",
     "status": "completed"
    },
    "tags": []
   },
   "source": [
    "### Feature Engineering\n",
    "\n",
    "Apply one-hot encoding to categorical features"
   ]
  },
  {
   "cell_type": "code",
   "execution_count": 4,
   "id": "collective-clothing",
   "metadata": {
    "execution": {
     "iopub.execute_input": "2021-07-05T13:59:26.897682Z",
     "iopub.status.busy": "2021-07-05T13:59:26.869577Z",
     "iopub.status.idle": "2021-07-05T13:59:26.904498Z",
     "shell.execute_reply": "2021-07-05T13:59:26.904952Z",
     "shell.execute_reply.started": "2021-07-05T13:35:03.207155Z"
    },
    "papermill": {
     "duration": 0.069858,
     "end_time": "2021-07-05T13:59:26.905150",
     "exception": false,
     "start_time": "2021-07-05T13:59:26.835292",
     "status": "completed"
    },
    "scrolled": true,
    "tags": []
   },
   "outputs": [
    {
     "data": {
      "text/html": [
       "<div>\n",
       "<style scoped>\n",
       "    .dataframe tbody tr th:only-of-type {\n",
       "        vertical-align: middle;\n",
       "    }\n",
       "\n",
       "    .dataframe tbody tr th {\n",
       "        vertical-align: top;\n",
       "    }\n",
       "\n",
       "    .dataframe thead th {\n",
       "        text-align: right;\n",
       "    }\n",
       "</style>\n",
       "<table border=\"1\" class=\"dataframe\">\n",
       "  <thead>\n",
       "    <tr style=\"text-align: right;\">\n",
       "      <th></th>\n",
       "      <th>class_size</th>\n",
       "      <th>performance</th>\n",
       "      <th>native_teacher_1</th>\n",
       "      <th>native_teacher_2</th>\n",
       "      <th>instructor_1</th>\n",
       "      <th>instructor_2</th>\n",
       "      <th>instructor_3</th>\n",
       "      <th>instructor_4</th>\n",
       "      <th>instructor_5</th>\n",
       "      <th>instructor_6</th>\n",
       "      <th>instructor_7</th>\n",
       "      <th>instructor_8</th>\n",
       "      <th>instructor_9</th>\n",
       "      <th>instructor_10</th>\n",
       "      <th>instructor_11</th>\n",
       "      <th>instructor_12</th>\n",
       "      <th>instructor_13</th>\n",
       "      <th>instructor_14</th>\n",
       "      <th>instructor_15</th>\n",
       "      <th>instructor_16</th>\n",
       "      <th>instructor_17</th>\n",
       "      <th>instructor_18</th>\n",
       "      <th>instructor_19</th>\n",
       "      <th>instructor_20</th>\n",
       "      <th>instructor_21</th>\n",
       "      <th>instructor_22</th>\n",
       "      <th>instructor_23</th>\n",
       "      <th>instructor_24</th>\n",
       "      <th>instructor_25</th>\n",
       "      <th>course_1</th>\n",
       "      <th>course_2</th>\n",
       "      <th>course_3</th>\n",
       "      <th>course_4</th>\n",
       "      <th>course_5</th>\n",
       "      <th>course_6</th>\n",
       "      <th>course_7</th>\n",
       "      <th>course_8</th>\n",
       "      <th>course_9</th>\n",
       "      <th>course_10</th>\n",
       "      <th>course_11</th>\n",
       "      <th>course_12</th>\n",
       "      <th>course_13</th>\n",
       "      <th>course_14</th>\n",
       "      <th>course_15</th>\n",
       "      <th>course_16</th>\n",
       "      <th>course_17</th>\n",
       "      <th>course_18</th>\n",
       "      <th>course_19</th>\n",
       "      <th>course_20</th>\n",
       "      <th>course_21</th>\n",
       "      <th>course_22</th>\n",
       "      <th>course_23</th>\n",
       "      <th>course_24</th>\n",
       "      <th>course_25</th>\n",
       "      <th>course_26</th>\n",
       "      <th>semester_1</th>\n",
       "      <th>semester_2</th>\n",
       "    </tr>\n",
       "  </thead>\n",
       "  <tbody>\n",
       "    <tr>\n",
       "      <th>0</th>\n",
       "      <td>19</td>\n",
       "      <td>3</td>\n",
       "      <td>1</td>\n",
       "      <td>0</td>\n",
       "      <td>0</td>\n",
       "      <td>0</td>\n",
       "      <td>0</td>\n",
       "      <td>0</td>\n",
       "      <td>0</td>\n",
       "      <td>0</td>\n",
       "      <td>0</td>\n",
       "      <td>0</td>\n",
       "      <td>0</td>\n",
       "      <td>0</td>\n",
       "      <td>0</td>\n",
       "      <td>0</td>\n",
       "      <td>0</td>\n",
       "      <td>0</td>\n",
       "      <td>0</td>\n",
       "      <td>0</td>\n",
       "      <td>0</td>\n",
       "      <td>0</td>\n",
       "      <td>0</td>\n",
       "      <td>0</td>\n",
       "      <td>0</td>\n",
       "      <td>0</td>\n",
       "      <td>1</td>\n",
       "      <td>0</td>\n",
       "      <td>0</td>\n",
       "      <td>0</td>\n",
       "      <td>0</td>\n",
       "      <td>1</td>\n",
       "      <td>0</td>\n",
       "      <td>0</td>\n",
       "      <td>0</td>\n",
       "      <td>0</td>\n",
       "      <td>0</td>\n",
       "      <td>0</td>\n",
       "      <td>0</td>\n",
       "      <td>0</td>\n",
       "      <td>0</td>\n",
       "      <td>0</td>\n",
       "      <td>0</td>\n",
       "      <td>0</td>\n",
       "      <td>0</td>\n",
       "      <td>0</td>\n",
       "      <td>0</td>\n",
       "      <td>0</td>\n",
       "      <td>0</td>\n",
       "      <td>0</td>\n",
       "      <td>0</td>\n",
       "      <td>0</td>\n",
       "      <td>0</td>\n",
       "      <td>0</td>\n",
       "      <td>0</td>\n",
       "      <td>1</td>\n",
       "      <td>0</td>\n",
       "    </tr>\n",
       "    <tr>\n",
       "      <th>1</th>\n",
       "      <td>17</td>\n",
       "      <td>3</td>\n",
       "      <td>0</td>\n",
       "      <td>1</td>\n",
       "      <td>0</td>\n",
       "      <td>0</td>\n",
       "      <td>0</td>\n",
       "      <td>0</td>\n",
       "      <td>0</td>\n",
       "      <td>0</td>\n",
       "      <td>0</td>\n",
       "      <td>0</td>\n",
       "      <td>0</td>\n",
       "      <td>0</td>\n",
       "      <td>0</td>\n",
       "      <td>0</td>\n",
       "      <td>0</td>\n",
       "      <td>0</td>\n",
       "      <td>1</td>\n",
       "      <td>0</td>\n",
       "      <td>0</td>\n",
       "      <td>0</td>\n",
       "      <td>0</td>\n",
       "      <td>0</td>\n",
       "      <td>0</td>\n",
       "      <td>0</td>\n",
       "      <td>0</td>\n",
       "      <td>0</td>\n",
       "      <td>0</td>\n",
       "      <td>0</td>\n",
       "      <td>0</td>\n",
       "      <td>1</td>\n",
       "      <td>0</td>\n",
       "      <td>0</td>\n",
       "      <td>0</td>\n",
       "      <td>0</td>\n",
       "      <td>0</td>\n",
       "      <td>0</td>\n",
       "      <td>0</td>\n",
       "      <td>0</td>\n",
       "      <td>0</td>\n",
       "      <td>0</td>\n",
       "      <td>0</td>\n",
       "      <td>0</td>\n",
       "      <td>0</td>\n",
       "      <td>0</td>\n",
       "      <td>0</td>\n",
       "      <td>0</td>\n",
       "      <td>0</td>\n",
       "      <td>0</td>\n",
       "      <td>0</td>\n",
       "      <td>0</td>\n",
       "      <td>0</td>\n",
       "      <td>0</td>\n",
       "      <td>0</td>\n",
       "      <td>1</td>\n",
       "      <td>0</td>\n",
       "    </tr>\n",
       "    <tr>\n",
       "      <th>2</th>\n",
       "      <td>49</td>\n",
       "      <td>3</td>\n",
       "      <td>1</td>\n",
       "      <td>0</td>\n",
       "      <td>0</td>\n",
       "      <td>0</td>\n",
       "      <td>0</td>\n",
       "      <td>0</td>\n",
       "      <td>0</td>\n",
       "      <td>0</td>\n",
       "      <td>0</td>\n",
       "      <td>0</td>\n",
       "      <td>0</td>\n",
       "      <td>0</td>\n",
       "      <td>0</td>\n",
       "      <td>0</td>\n",
       "      <td>0</td>\n",
       "      <td>0</td>\n",
       "      <td>0</td>\n",
       "      <td>0</td>\n",
       "      <td>0</td>\n",
       "      <td>0</td>\n",
       "      <td>0</td>\n",
       "      <td>0</td>\n",
       "      <td>0</td>\n",
       "      <td>0</td>\n",
       "      <td>1</td>\n",
       "      <td>0</td>\n",
       "      <td>0</td>\n",
       "      <td>0</td>\n",
       "      <td>0</td>\n",
       "      <td>1</td>\n",
       "      <td>0</td>\n",
       "      <td>0</td>\n",
       "      <td>0</td>\n",
       "      <td>0</td>\n",
       "      <td>0</td>\n",
       "      <td>0</td>\n",
       "      <td>0</td>\n",
       "      <td>0</td>\n",
       "      <td>0</td>\n",
       "      <td>0</td>\n",
       "      <td>0</td>\n",
       "      <td>0</td>\n",
       "      <td>0</td>\n",
       "      <td>0</td>\n",
       "      <td>0</td>\n",
       "      <td>0</td>\n",
       "      <td>0</td>\n",
       "      <td>0</td>\n",
       "      <td>0</td>\n",
       "      <td>0</td>\n",
       "      <td>0</td>\n",
       "      <td>0</td>\n",
       "      <td>0</td>\n",
       "      <td>0</td>\n",
       "      <td>1</td>\n",
       "    </tr>\n",
       "    <tr>\n",
       "      <th>3</th>\n",
       "      <td>33</td>\n",
       "      <td>3</td>\n",
       "      <td>1</td>\n",
       "      <td>0</td>\n",
       "      <td>0</td>\n",
       "      <td>0</td>\n",
       "      <td>0</td>\n",
       "      <td>0</td>\n",
       "      <td>1</td>\n",
       "      <td>0</td>\n",
       "      <td>0</td>\n",
       "      <td>0</td>\n",
       "      <td>0</td>\n",
       "      <td>0</td>\n",
       "      <td>0</td>\n",
       "      <td>0</td>\n",
       "      <td>0</td>\n",
       "      <td>0</td>\n",
       "      <td>0</td>\n",
       "      <td>0</td>\n",
       "      <td>0</td>\n",
       "      <td>0</td>\n",
       "      <td>0</td>\n",
       "      <td>0</td>\n",
       "      <td>0</td>\n",
       "      <td>0</td>\n",
       "      <td>0</td>\n",
       "      <td>0</td>\n",
       "      <td>0</td>\n",
       "      <td>0</td>\n",
       "      <td>1</td>\n",
       "      <td>0</td>\n",
       "      <td>0</td>\n",
       "      <td>0</td>\n",
       "      <td>0</td>\n",
       "      <td>0</td>\n",
       "      <td>0</td>\n",
       "      <td>0</td>\n",
       "      <td>0</td>\n",
       "      <td>0</td>\n",
       "      <td>0</td>\n",
       "      <td>0</td>\n",
       "      <td>0</td>\n",
       "      <td>0</td>\n",
       "      <td>0</td>\n",
       "      <td>0</td>\n",
       "      <td>0</td>\n",
       "      <td>0</td>\n",
       "      <td>0</td>\n",
       "      <td>0</td>\n",
       "      <td>0</td>\n",
       "      <td>0</td>\n",
       "      <td>0</td>\n",
       "      <td>0</td>\n",
       "      <td>0</td>\n",
       "      <td>0</td>\n",
       "      <td>1</td>\n",
       "    </tr>\n",
       "    <tr>\n",
       "      <th>4</th>\n",
       "      <td>55</td>\n",
       "      <td>3</td>\n",
       "      <td>0</td>\n",
       "      <td>1</td>\n",
       "      <td>0</td>\n",
       "      <td>0</td>\n",
       "      <td>0</td>\n",
       "      <td>0</td>\n",
       "      <td>0</td>\n",
       "      <td>0</td>\n",
       "      <td>1</td>\n",
       "      <td>0</td>\n",
       "      <td>0</td>\n",
       "      <td>0</td>\n",
       "      <td>0</td>\n",
       "      <td>0</td>\n",
       "      <td>0</td>\n",
       "      <td>0</td>\n",
       "      <td>0</td>\n",
       "      <td>0</td>\n",
       "      <td>0</td>\n",
       "      <td>0</td>\n",
       "      <td>0</td>\n",
       "      <td>0</td>\n",
       "      <td>0</td>\n",
       "      <td>0</td>\n",
       "      <td>0</td>\n",
       "      <td>0</td>\n",
       "      <td>0</td>\n",
       "      <td>0</td>\n",
       "      <td>0</td>\n",
       "      <td>0</td>\n",
       "      <td>0</td>\n",
       "      <td>0</td>\n",
       "      <td>0</td>\n",
       "      <td>0</td>\n",
       "      <td>0</td>\n",
       "      <td>0</td>\n",
       "      <td>0</td>\n",
       "      <td>1</td>\n",
       "      <td>0</td>\n",
       "      <td>0</td>\n",
       "      <td>0</td>\n",
       "      <td>0</td>\n",
       "      <td>0</td>\n",
       "      <td>0</td>\n",
       "      <td>0</td>\n",
       "      <td>0</td>\n",
       "      <td>0</td>\n",
       "      <td>0</td>\n",
       "      <td>0</td>\n",
       "      <td>0</td>\n",
       "      <td>0</td>\n",
       "      <td>0</td>\n",
       "      <td>0</td>\n",
       "      <td>0</td>\n",
       "      <td>1</td>\n",
       "    </tr>\n",
       "  </tbody>\n",
       "</table>\n",
       "</div>"
      ],
      "text/plain": [
       "   class_size  performance  native_teacher_1  native_teacher_2  instructor_1  instructor_2  instructor_3  instructor_4  instructor_5  instructor_6  instructor_7  instructor_8  instructor_9  instructor_10  instructor_11  instructor_12  instructor_13  instructor_14  instructor_15  instructor_16  instructor_17  instructor_18  instructor_19  instructor_20  instructor_21  instructor_22  instructor_23  instructor_24  instructor_25  course_1  course_2  course_3  course_4  course_5  course_6  course_7  course_8  course_9  course_10  course_11  course_12  course_13  course_14  course_15  course_16  course_17  course_18  course_19  course_20  course_21  course_22  course_23  course_24  course_25  course_26  semester_1  semester_2\n",
       "0          19            3                 1                 0             0             0             0             0             0             0             0             0             0              0              0              0              0              0              0              0              0              0              0              0              0              0              1              0              0         0         0         1         0         0         0         0         0         0          0          0          0          0          0          0          0          0          0          0          0          0          0          0          0          0          0           1           0\n",
       "1          17            3                 0                 1             0             0             0             0             0             0             0             0             0              0              0              0              0              0              1              0              0              0              0              0              0              0              0              0              0         0         0         1         0         0         0         0         0         0          0          0          0          0          0          0          0          0          0          0          0          0          0          0          0          0          0           1           0\n",
       "2          49            3                 1                 0             0             0             0             0             0             0             0             0             0              0              0              0              0              0              0              0              0              0              0              0              0              0              1              0              0         0         0         1         0         0         0         0         0         0          0          0          0          0          0          0          0          0          0          0          0          0          0          0          0          0          0           0           1\n",
       "3          33            3                 1                 0             0             0             0             0             1             0             0             0             0              0              0              0              0              0              0              0              0              0              0              0              0              0              0              0              0         0         1         0         0         0         0         0         0         0          0          0          0          0          0          0          0          0          0          0          0          0          0          0          0          0          0           0           1\n",
       "4          55            3                 0                 1             0             0             0             0             0             0             1             0             0              0              0              0              0              0              0              0              0              0              0              0              0              0              0              0              0         0         0         0         0         0         0         0         0         0          0          1          0          0          0          0          0          0          0          0          0          0          0          0          0          0          0           0           1"
      ]
     },
     "execution_count": 4,
     "metadata": {},
     "output_type": "execute_result"
    }
   ],
   "source": [
    "df = pd.get_dummies(df, columns=['native_teacher', 'instructor', 'course', 'semester'])\n",
    "df.head()"
   ]
  },
  {
   "cell_type": "code",
   "execution_count": 5,
   "id": "1db077d0",
   "metadata": {},
   "outputs": [
    {
     "data": {
      "text/plain": [
       "(151, 57)"
      ]
     },
     "execution_count": 5,
     "metadata": {},
     "output_type": "execute_result"
    }
   ],
   "source": [
    "df.shape"
   ]
  },
  {
   "cell_type": "markdown",
   "id": "preliminary-estate",
   "metadata": {
    "papermill": {
     "duration": 0.021829,
     "end_time": "2021-07-05T13:59:26.948800",
     "exception": false,
     "start_time": "2021-07-05T13:59:26.926971",
     "status": "completed"
    },
    "tags": []
   },
   "source": [
    "Build training and testing dataset"
   ]
  },
  {
   "cell_type": "code",
   "execution_count": 6,
   "id": "economic-paint",
   "metadata": {
    "execution": {
     "iopub.execute_input": "2021-07-05T13:59:27.001704Z",
     "iopub.status.busy": "2021-07-05T13:59:26.999428Z",
     "iopub.status.idle": "2021-07-05T13:59:27.008688Z",
     "shell.execute_reply": "2021-07-05T13:59:27.009238Z",
     "shell.execute_reply.started": "2021-07-05T13:35:03.255462Z"
    },
    "papermill": {
     "duration": 0.038928,
     "end_time": "2021-07-05T13:59:27.009439",
     "exception": false,
     "start_time": "2021-07-05T13:59:26.970511",
     "status": "completed"
    },
    "tags": []
   },
   "outputs": [],
   "source": [
    "features = [col for col in df.columns if col not in ['performance']]\n",
    "df_train, df_test = train_test_split(df, random_state=42)\n",
    "\n",
    "X_train = df_train[features]\n",
    "y_train = df_train['performance']\n",
    "\n",
    "X_test = df_test[features]\n",
    "y_test = df_test['performance']\n",
    "\n",
    "model_scores = []"
   ]
  },
  {
   "cell_type": "markdown",
   "id": "miniature-liver",
   "metadata": {
    "papermill": {
     "duration": 0.021794,
     "end_time": "2021-07-05T13:59:27.053286",
     "exception": false,
     "start_time": "2021-07-05T13:59:27.031492",
     "status": "completed"
    },
    "tags": []
   },
   "source": [
    "Set up"
   ]
  },
  {
   "cell_type": "code",
   "execution_count": 7,
   "id": "appreciated-radical",
   "metadata": {
    "execution": {
     "iopub.execute_input": "2021-07-05T13:59:27.108851Z",
     "iopub.status.busy": "2021-07-05T13:59:27.108190Z",
     "iopub.status.idle": "2021-07-05T13:59:27.111624Z",
     "shell.execute_reply": "2021-07-05T13:59:27.112119Z",
     "shell.execute_reply.started": "2021-07-05T13:35:03.268302Z"
    },
    "papermill": {
     "duration": 0.037088,
     "end_time": "2021-07-05T13:59:27.112350",
     "exception": false,
     "start_time": "2021-07-05T13:59:27.075262",
     "status": "completed"
    },
    "tags": []
   },
   "outputs": [],
   "source": [
    "# global variable to keep track the scores of models\n",
    "model_scores = []\n",
    "\n",
    "def select_best_model(model_name, model, model_params):\n",
    "    \"\"\"\n",
    "    Select the best scaler and parameters for the given model\n",
    "    \"\"\"\n",
    "    scalers = [\n",
    "        ('No scaler', None),\n",
    "        ('StandardScaler', StandardScaler()),\n",
    "        ('Normalizer', Normalizer()),\n",
    "        ('MinMaxScaler', MinMaxScaler()),\n",
    "        ('RobustScaler', RobustScaler())\n",
    "    ]\n",
    "    scaler_and_scores = []\n",
    "    for scaler_name, scaler in scalers:\n",
    "        steps = [('scaler', scaler), ('model', model)] if scaler else [('model', model)]\n",
    "        pipe = Pipeline(steps)\n",
    "        grid = GridSearchCV(pipe, model_params)\n",
    "        grid.fit(X_train, y_train)\n",
    "        score = grid.score(X_test, y_test)\n",
    "        scaler_and_scores.append((scaler_name, score, grid.best_params_, grid))\n",
    "        \n",
    "    scaler_and_scores.sort(key=lambda item: -item[1])\n",
    "    best_score = scaler_and_scores[0][1]\n",
    "    model_scores.append((model_name, best_score))\n",
    "    \n",
    "    score_df = pd.DataFrame(scaler_and_scores, columns=['scaler', 'accuracy', 'best_params', 'model'])\n",
    "    return score_df"
   ]
  },
  {
   "cell_type": "markdown",
   "id": "answering-dispatch",
   "metadata": {
    "papermill": {
     "duration": 0.021976,
     "end_time": "2021-07-05T13:59:27.156621",
     "exception": false,
     "start_time": "2021-07-05T13:59:27.134645",
     "status": "completed"
    },
    "tags": []
   },
   "source": [
    "# Model: Logistic Regression"
   ]
  },
  {
   "cell_type": "code",
   "execution_count": 8,
   "id": "acquired-jacksonville",
   "metadata": {
    "execution": {
     "iopub.execute_input": "2021-07-05T13:59:27.210731Z",
     "iopub.status.busy": "2021-07-05T13:59:27.209839Z",
     "iopub.status.idle": "2021-07-05T13:59:36.864621Z",
     "shell.execute_reply": "2021-07-05T13:59:36.865097Z",
     "shell.execute_reply.started": "2021-07-05T13:35:03.281302Z"
    },
    "papermill": {
     "duration": 9.686332,
     "end_time": "2021-07-05T13:59:36.865308",
     "exception": false,
     "start_time": "2021-07-05T13:59:27.178976",
     "status": "completed"
    },
    "tags": []
   },
   "outputs": [
    {
     "data": {
      "text/html": [
       "<div>\n",
       "<style scoped>\n",
       "    .dataframe tbody tr th:only-of-type {\n",
       "        vertical-align: middle;\n",
       "    }\n",
       "\n",
       "    .dataframe tbody tr th {\n",
       "        vertical-align: top;\n",
       "    }\n",
       "\n",
       "    .dataframe thead th {\n",
       "        text-align: right;\n",
       "    }\n",
       "</style>\n",
       "<table border=\"1\" class=\"dataframe\">\n",
       "  <thead>\n",
       "    <tr style=\"text-align: right;\">\n",
       "      <th></th>\n",
       "      <th>scaler</th>\n",
       "      <th>accuracy</th>\n",
       "      <th>best_params</th>\n",
       "    </tr>\n",
       "  </thead>\n",
       "  <tbody>\n",
       "    <tr>\n",
       "      <th>0</th>\n",
       "      <td>StandardScaler</td>\n",
       "      <td>0.631579</td>\n",
       "      <td>{'model__C': 0.1, 'model__penalty': 'none'}</td>\n",
       "    </tr>\n",
       "    <tr>\n",
       "      <th>1</th>\n",
       "      <td>RobustScaler</td>\n",
       "      <td>0.631579</td>\n",
       "      <td>{'model__C': 0.1, 'model__penalty': 'none'}</td>\n",
       "    </tr>\n",
       "    <tr>\n",
       "      <th>2</th>\n",
       "      <td>MinMaxScaler</td>\n",
       "      <td>0.605263</td>\n",
       "      <td>{'model__C': 10, 'model__penalty': 'l2'}</td>\n",
       "    </tr>\n",
       "    <tr>\n",
       "      <th>3</th>\n",
       "      <td>No scaler</td>\n",
       "      <td>0.552632</td>\n",
       "      <td>{'model__C': 1, 'model__penalty': 'l2'}</td>\n",
       "    </tr>\n",
       "    <tr>\n",
       "      <th>4</th>\n",
       "      <td>Normalizer</td>\n",
       "      <td>0.552632</td>\n",
       "      <td>{'model__C': 0.1, 'model__penalty': 'none'}</td>\n",
       "    </tr>\n",
       "  </tbody>\n",
       "</table>\n",
       "</div>"
      ],
      "text/plain": [
       "           scaler  accuracy                                  best_params\n",
       "0  StandardScaler  0.631579  {'model__C': 0.1, 'model__penalty': 'none'}\n",
       "1    RobustScaler  0.631579  {'model__C': 0.1, 'model__penalty': 'none'}\n",
       "2    MinMaxScaler  0.605263     {'model__C': 10, 'model__penalty': 'l2'}\n",
       "3       No scaler  0.552632      {'model__C': 1, 'model__penalty': 'l2'}\n",
       "4      Normalizer  0.552632  {'model__C': 0.1, 'model__penalty': 'none'}"
      ]
     },
     "execution_count": 8,
     "metadata": {},
     "output_type": "execute_result"
    }
   ],
   "source": [
    "model = LogisticRegression()\n",
    "params = {\n",
    "    'model__penalty': ['l1', 'l2', 'elasticnet', 'none'],\n",
    "    'model__C': [0.1, 1, 10, 100]\n",
    "}\n",
    "\n",
    "score_df = select_best_model('Logistic Regression', model, params)\n",
    "score_df[score_df.columns[:-1]]"
   ]
  },
  {
   "cell_type": "markdown",
   "id": "acting-biography",
   "metadata": {
    "papermill": {
     "duration": 0.021759,
     "end_time": "2021-07-05T13:59:36.909280",
     "exception": false,
     "start_time": "2021-07-05T13:59:36.887521",
     "status": "completed"
    },
    "tags": []
   },
   "source": [
    "# Model: Neural Network"
   ]
  },
  {
   "cell_type": "code",
   "execution_count": 9,
   "id": "aboriginal-facing",
   "metadata": {
    "execution": {
     "iopub.execute_input": "2021-07-05T13:59:36.963597Z",
     "iopub.status.busy": "2021-07-05T13:59:36.962604Z",
     "iopub.status.idle": "2021-07-05T14:02:22.615841Z",
     "shell.execute_reply": "2021-07-05T14:02:22.616687Z",
     "shell.execute_reply.started": "2021-07-05T13:35:12.646884Z"
    },
    "papermill": {
     "duration": 165.685407,
     "end_time": "2021-07-05T14:02:22.616966",
     "exception": false,
     "start_time": "2021-07-05T13:59:36.931559",
     "status": "completed"
    },
    "tags": []
   },
   "outputs": [
    {
     "data": {
      "text/html": [
       "<div>\n",
       "<style scoped>\n",
       "    .dataframe tbody tr th:only-of-type {\n",
       "        vertical-align: middle;\n",
       "    }\n",
       "\n",
       "    .dataframe tbody tr th {\n",
       "        vertical-align: top;\n",
       "    }\n",
       "\n",
       "    .dataframe thead th {\n",
       "        text-align: right;\n",
       "    }\n",
       "</style>\n",
       "<table border=\"1\" class=\"dataframe\">\n",
       "  <thead>\n",
       "    <tr style=\"text-align: right;\">\n",
       "      <th></th>\n",
       "      <th>scaler</th>\n",
       "      <th>accuracy</th>\n",
       "      <th>best_params</th>\n",
       "    </tr>\n",
       "  </thead>\n",
       "  <tbody>\n",
       "    <tr>\n",
       "      <th>0</th>\n",
       "      <td>MinMaxScaler</td>\n",
       "      <td>0.710526</td>\n",
       "      <td>{'model__activation': 'relu', 'model__hidden_layer_sizes': (100, 100)}</td>\n",
       "    </tr>\n",
       "    <tr>\n",
       "      <th>1</th>\n",
       "      <td>StandardScaler</td>\n",
       "      <td>0.684211</td>\n",
       "      <td>{'model__activation': 'tanh', 'model__hidden_layer_sizes': (100, 100, 100)}</td>\n",
       "    </tr>\n",
       "    <tr>\n",
       "      <th>2</th>\n",
       "      <td>RobustScaler</td>\n",
       "      <td>0.684211</td>\n",
       "      <td>{'model__activation': 'relu', 'model__hidden_layer_sizes': (100, 100)}</td>\n",
       "    </tr>\n",
       "    <tr>\n",
       "      <th>3</th>\n",
       "      <td>No scaler</td>\n",
       "      <td>0.605263</td>\n",
       "      <td>{'model__activation': 'relu', 'model__hidden_layer_sizes': (100, 100)}</td>\n",
       "    </tr>\n",
       "    <tr>\n",
       "      <th>4</th>\n",
       "      <td>Normalizer</td>\n",
       "      <td>0.552632</td>\n",
       "      <td>{'model__activation': 'identity', 'model__hidden_layer_sizes': (100, 100, 100)}</td>\n",
       "    </tr>\n",
       "  </tbody>\n",
       "</table>\n",
       "</div>"
      ],
      "text/plain": [
       "           scaler  accuracy                                                                      best_params\n",
       "0    MinMaxScaler  0.710526           {'model__activation': 'relu', 'model__hidden_layer_sizes': (100, 100)}\n",
       "1  StandardScaler  0.684211      {'model__activation': 'tanh', 'model__hidden_layer_sizes': (100, 100, 100)}\n",
       "2    RobustScaler  0.684211           {'model__activation': 'relu', 'model__hidden_layer_sizes': (100, 100)}\n",
       "3       No scaler  0.605263           {'model__activation': 'relu', 'model__hidden_layer_sizes': (100, 100)}\n",
       "4      Normalizer  0.552632  {'model__activation': 'identity', 'model__hidden_layer_sizes': (100, 100, 100)}"
      ]
     },
     "execution_count": 9,
     "metadata": {},
     "output_type": "execute_result"
    }
   ],
   "source": [
    "model = MLPClassifier()\n",
    "params = {\n",
    "    'model__hidden_layer_sizes': [(100), (100, 100), (100, 100, 100)],\n",
    "    'model__activation': ['relu', 'identity', 'tanh', 'logistic'],\n",
    "#     'model__solver': ['lbfgs', 'sgd', 'adam']\n",
    "}\n",
    "score_df = select_best_model('Neural Network', model, params)\n",
    "score_df[score_df.columns[:-1]]"
   ]
  },
  {
   "cell_type": "markdown",
   "id": "mexican-jordan",
   "metadata": {
    "papermill": {
     "duration": 0.029122,
     "end_time": "2021-07-05T14:02:22.686111",
     "exception": false,
     "start_time": "2021-07-05T14:02:22.656989",
     "status": "completed"
    },
    "tags": []
   },
   "source": [
    "# Model: Random Forest"
   ]
  },
  {
   "cell_type": "code",
   "execution_count": 10,
   "id": "inappropriate-attachment",
   "metadata": {
    "execution": {
     "iopub.execute_input": "2021-07-05T14:02:22.739340Z",
     "iopub.status.busy": "2021-07-05T14:02:22.738674Z",
     "iopub.status.idle": "2021-07-05T14:03:01.313758Z",
     "shell.execute_reply": "2021-07-05T14:03:01.314281Z",
     "shell.execute_reply.started": "2021-07-05T13:37:47.199956Z"
    },
    "papermill": {
     "duration": 38.605539,
     "end_time": "2021-07-05T14:03:01.314488",
     "exception": false,
     "start_time": "2021-07-05T14:02:22.708949",
     "status": "completed"
    },
    "tags": []
   },
   "outputs": [
    {
     "data": {
      "text/html": [
       "<div>\n",
       "<style scoped>\n",
       "    .dataframe tbody tr th:only-of-type {\n",
       "        vertical-align: middle;\n",
       "    }\n",
       "\n",
       "    .dataframe tbody tr th {\n",
       "        vertical-align: top;\n",
       "    }\n",
       "\n",
       "    .dataframe thead th {\n",
       "        text-align: right;\n",
       "    }\n",
       "</style>\n",
       "<table border=\"1\" class=\"dataframe\">\n",
       "  <thead>\n",
       "    <tr style=\"text-align: right;\">\n",
       "      <th></th>\n",
       "      <th>scaler</th>\n",
       "      <th>accuracy</th>\n",
       "      <th>best_params</th>\n",
       "    </tr>\n",
       "  </thead>\n",
       "  <tbody>\n",
       "    <tr>\n",
       "      <th>0</th>\n",
       "      <td>RobustScaler</td>\n",
       "      <td>0.710526</td>\n",
       "      <td>{'model__criterion': 'gini', 'model__n_estimators': 200}</td>\n",
       "    </tr>\n",
       "    <tr>\n",
       "      <th>1</th>\n",
       "      <td>StandardScaler</td>\n",
       "      <td>0.684211</td>\n",
       "      <td>{'model__criterion': 'entropy', 'model__n_estimators': 200}</td>\n",
       "    </tr>\n",
       "    <tr>\n",
       "      <th>2</th>\n",
       "      <td>MinMaxScaler</td>\n",
       "      <td>0.684211</td>\n",
       "      <td>{'model__criterion': 'gini', 'model__n_estimators': 100}</td>\n",
       "    </tr>\n",
       "    <tr>\n",
       "      <th>3</th>\n",
       "      <td>Normalizer</td>\n",
       "      <td>0.657895</td>\n",
       "      <td>{'model__criterion': 'entropy', 'model__n_estimators': 100}</td>\n",
       "    </tr>\n",
       "    <tr>\n",
       "      <th>4</th>\n",
       "      <td>No scaler</td>\n",
       "      <td>0.605263</td>\n",
       "      <td>{'model__criterion': 'gini', 'model__n_estimators': 200}</td>\n",
       "    </tr>\n",
       "  </tbody>\n",
       "</table>\n",
       "</div>"
      ],
      "text/plain": [
       "           scaler  accuracy                                                  best_params\n",
       "0    RobustScaler  0.710526     {'model__criterion': 'gini', 'model__n_estimators': 200}\n",
       "1  StandardScaler  0.684211  {'model__criterion': 'entropy', 'model__n_estimators': 200}\n",
       "2    MinMaxScaler  0.684211     {'model__criterion': 'gini', 'model__n_estimators': 100}\n",
       "3      Normalizer  0.657895  {'model__criterion': 'entropy', 'model__n_estimators': 100}\n",
       "4       No scaler  0.605263     {'model__criterion': 'gini', 'model__n_estimators': 200}"
      ]
     },
     "execution_count": 10,
     "metadata": {},
     "output_type": "execute_result"
    }
   ],
   "source": [
    "model = RandomForestClassifier()\n",
    "params = {\n",
    "    'model__n_estimators': [10, 50, 100, 200],\n",
    "    'model__criterion': ['gini', 'entropy']\n",
    "}\n",
    "\n",
    "score_df = select_best_model('Random Forest', model, params)\n",
    "score_df[score_df.columns[:-1]]"
   ]
  },
  {
   "cell_type": "markdown",
   "id": "copyrighted-benefit",
   "metadata": {
    "papermill": {
     "duration": 0.02427,
     "end_time": "2021-07-05T14:03:01.362034",
     "exception": false,
     "start_time": "2021-07-05T14:03:01.337764",
     "status": "completed"
    },
    "tags": []
   },
   "source": [
    "# Model: Decision Tree"
   ]
  },
  {
   "cell_type": "code",
   "execution_count": 11,
   "id": "extra-bundle",
   "metadata": {
    "execution": {
     "iopub.execute_input": "2021-07-05T14:03:01.412974Z",
     "iopub.status.busy": "2021-07-05T14:03:01.412338Z",
     "iopub.status.idle": "2021-07-05T14:03:02.669157Z",
     "shell.execute_reply": "2021-07-05T14:03:02.669676Z",
     "shell.execute_reply.started": "2021-07-05T13:38:24.870564Z"
    },
    "papermill": {
     "duration": 1.28354,
     "end_time": "2021-07-05T14:03:02.669853",
     "exception": false,
     "start_time": "2021-07-05T14:03:01.386313",
     "status": "completed"
    },
    "tags": []
   },
   "outputs": [
    {
     "data": {
      "text/html": [
       "<div>\n",
       "<style scoped>\n",
       "    .dataframe tbody tr th:only-of-type {\n",
       "        vertical-align: middle;\n",
       "    }\n",
       "\n",
       "    .dataframe tbody tr th {\n",
       "        vertical-align: top;\n",
       "    }\n",
       "\n",
       "    .dataframe thead th {\n",
       "        text-align: right;\n",
       "    }\n",
       "</style>\n",
       "<table border=\"1\" class=\"dataframe\">\n",
       "  <thead>\n",
       "    <tr style=\"text-align: right;\">\n",
       "      <th></th>\n",
       "      <th>scaler</th>\n",
       "      <th>accuracy</th>\n",
       "      <th>best_params</th>\n",
       "    </tr>\n",
       "  </thead>\n",
       "  <tbody>\n",
       "    <tr>\n",
       "      <th>0</th>\n",
       "      <td>No scaler</td>\n",
       "      <td>0.736842</td>\n",
       "      <td>{'model__criterion': 'entropy', 'model__splitter': 'random'}</td>\n",
       "    </tr>\n",
       "    <tr>\n",
       "      <th>1</th>\n",
       "      <td>StandardScaler</td>\n",
       "      <td>0.710526</td>\n",
       "      <td>{'model__criterion': 'gini', 'model__splitter': 'random'}</td>\n",
       "    </tr>\n",
       "    <tr>\n",
       "      <th>2</th>\n",
       "      <td>Normalizer</td>\n",
       "      <td>0.710526</td>\n",
       "      <td>{'model__criterion': 'gini', 'model__splitter': 'random'}</td>\n",
       "    </tr>\n",
       "    <tr>\n",
       "      <th>3</th>\n",
       "      <td>MinMaxScaler</td>\n",
       "      <td>0.657895</td>\n",
       "      <td>{'model__criterion': 'entropy', 'model__splitter': 'random'}</td>\n",
       "    </tr>\n",
       "    <tr>\n",
       "      <th>4</th>\n",
       "      <td>RobustScaler</td>\n",
       "      <td>0.657895</td>\n",
       "      <td>{'model__criterion': 'gini', 'model__splitter': 'random'}</td>\n",
       "    </tr>\n",
       "  </tbody>\n",
       "</table>\n",
       "</div>"
      ],
      "text/plain": [
       "           scaler  accuracy                                                   best_params\n",
       "0       No scaler  0.736842  {'model__criterion': 'entropy', 'model__splitter': 'random'}\n",
       "1  StandardScaler  0.710526     {'model__criterion': 'gini', 'model__splitter': 'random'}\n",
       "2      Normalizer  0.710526     {'model__criterion': 'gini', 'model__splitter': 'random'}\n",
       "3    MinMaxScaler  0.657895  {'model__criterion': 'entropy', 'model__splitter': 'random'}\n",
       "4    RobustScaler  0.657895     {'model__criterion': 'gini', 'model__splitter': 'random'}"
      ]
     },
     "execution_count": 11,
     "metadata": {},
     "output_type": "execute_result"
    }
   ],
   "source": [
    "model = DecisionTreeClassifier()\n",
    "params = {\n",
    "    'model__criterion': ['gini', 'entropy'],\n",
    "    'model__splitter': ['best', 'random']\n",
    "}\n",
    "\n",
    "score_df = select_best_model('Decision Tree', model, params)\n",
    "score_df[score_df.columns[:-1]]"
   ]
  },
  {
   "cell_type": "markdown",
   "id": "broken-rapid",
   "metadata": {
    "papermill": {
     "duration": 0.023251,
     "end_time": "2021-07-05T14:03:02.716601",
     "exception": false,
     "start_time": "2021-07-05T14:03:02.693350",
     "status": "completed"
    },
    "tags": []
   },
   "source": [
    "# Model: Gradient Boosting"
   ]
  },
  {
   "cell_type": "code",
   "execution_count": 12,
   "id": "lasting-melissa",
   "metadata": {
    "execution": {
     "iopub.execute_input": "2021-07-05T14:03:02.767629Z",
     "iopub.status.busy": "2021-07-05T14:03:02.766930Z",
     "iopub.status.idle": "2021-07-05T14:03:55.964226Z",
     "shell.execute_reply": "2021-07-05T14:03:55.964734Z",
     "shell.execute_reply.started": "2021-07-05T13:38:26.01973Z"
    },
    "papermill": {
     "duration": 53.224803,
     "end_time": "2021-07-05T14:03:55.964907",
     "exception": false,
     "start_time": "2021-07-05T14:03:02.740104",
     "status": "completed"
    },
    "tags": []
   },
   "outputs": [
    {
     "data": {
      "text/html": [
       "<div>\n",
       "<style scoped>\n",
       "    .dataframe tbody tr th:only-of-type {\n",
       "        vertical-align: middle;\n",
       "    }\n",
       "\n",
       "    .dataframe tbody tr th {\n",
       "        vertical-align: top;\n",
       "    }\n",
       "\n",
       "    .dataframe thead th {\n",
       "        text-align: right;\n",
       "    }\n",
       "</style>\n",
       "<table border=\"1\" class=\"dataframe\">\n",
       "  <thead>\n",
       "    <tr style=\"text-align: right;\">\n",
       "      <th></th>\n",
       "      <th>scaler</th>\n",
       "      <th>accuracy</th>\n",
       "      <th>best_params</th>\n",
       "    </tr>\n",
       "  </thead>\n",
       "  <tbody>\n",
       "    <tr>\n",
       "      <th>0</th>\n",
       "      <td>StandardScaler</td>\n",
       "      <td>0.736842</td>\n",
       "      <td>{'model__loss': 'deviance', 'model__n_estimators': 500}</td>\n",
       "    </tr>\n",
       "    <tr>\n",
       "      <th>1</th>\n",
       "      <td>MinMaxScaler</td>\n",
       "      <td>0.736842</td>\n",
       "      <td>{'model__loss': 'deviance', 'model__n_estimators': 500}</td>\n",
       "    </tr>\n",
       "    <tr>\n",
       "      <th>2</th>\n",
       "      <td>No scaler</td>\n",
       "      <td>0.710526</td>\n",
       "      <td>{'model__loss': 'deviance', 'model__n_estimators': 500}</td>\n",
       "    </tr>\n",
       "    <tr>\n",
       "      <th>3</th>\n",
       "      <td>RobustScaler</td>\n",
       "      <td>0.710526</td>\n",
       "      <td>{'model__loss': 'deviance', 'model__n_estimators': 500}</td>\n",
       "    </tr>\n",
       "    <tr>\n",
       "      <th>4</th>\n",
       "      <td>Normalizer</td>\n",
       "      <td>0.657895</td>\n",
       "      <td>{'model__loss': 'deviance', 'model__n_estimators': 500}</td>\n",
       "    </tr>\n",
       "  </tbody>\n",
       "</table>\n",
       "</div>"
      ],
      "text/plain": [
       "           scaler  accuracy                                              best_params\n",
       "0  StandardScaler  0.736842  {'model__loss': 'deviance', 'model__n_estimators': 500}\n",
       "1    MinMaxScaler  0.736842  {'model__loss': 'deviance', 'model__n_estimators': 500}\n",
       "2       No scaler  0.710526  {'model__loss': 'deviance', 'model__n_estimators': 500}\n",
       "3    RobustScaler  0.710526  {'model__loss': 'deviance', 'model__n_estimators': 500}\n",
       "4      Normalizer  0.657895  {'model__loss': 'deviance', 'model__n_estimators': 500}"
      ]
     },
     "execution_count": 12,
     "metadata": {},
     "output_type": "execute_result"
    }
   ],
   "source": [
    "model = GradientBoostingClassifier()\n",
    "params = {\n",
    "    'model__loss': ['deviance', 'exponential'],\n",
    "    'model__n_estimators': [10, 100, 200, 500]\n",
    "}\n",
    "\n",
    "score_df = select_best_model('Gradient Boosting', model, params)\n",
    "score_df[score_df.columns[:-1]]"
   ]
  },
  {
   "cell_type": "markdown",
   "id": "palestinian-bishop",
   "metadata": {
    "papermill": {
     "duration": 0.023667,
     "end_time": "2021-07-05T14:03:56.012707",
     "exception": false,
     "start_time": "2021-07-05T14:03:55.989040",
     "status": "completed"
    },
    "tags": []
   },
   "source": [
    "# Model: Linear Discriminant Analysis"
   ]
  },
  {
   "cell_type": "code",
   "execution_count": null,
   "id": "referenced-bryan",
   "metadata": {
    "execution": {
     "iopub.execute_input": "2021-07-05T14:03:56.074701Z",
     "iopub.status.busy": "2021-07-05T14:03:56.068391Z",
     "iopub.status.idle": "2021-07-05T14:03:57.875510Z",
     "shell.execute_reply": "2021-07-05T14:03:57.876454Z",
     "shell.execute_reply.started": "2021-07-05T13:39:19.55777Z"
    },
    "papermill": {
     "duration": 1.840037,
     "end_time": "2021-07-05T14:03:57.876713",
     "exception": false,
     "start_time": "2021-07-05T14:03:56.036676",
     "status": "completed"
    },
    "tags": []
   },
   "outputs": [],
   "source": [
    "model = LinearDiscriminantAnalysis()\n",
    "params = {\n",
    "    'model__solver': ['svd', 'lsqr', 'eigen']\n",
    "}\n",
    "\n",
    "score_df = select_best_model('LDA', model, params)\n",
    "score_df[score_df.columns[:-1]]"
   ]
  },
  {
   "cell_type": "markdown",
   "id": "mathematical-cheese",
   "metadata": {
    "papermill": {
     "duration": 0.032913,
     "end_time": "2021-07-05T14:03:57.977291",
     "exception": false,
     "start_time": "2021-07-05T14:03:57.944378",
     "status": "completed"
    },
    "tags": []
   },
   "source": [
    "# Model: SVM"
   ]
  },
  {
   "cell_type": "code",
   "execution_count": 19,
   "id": "rapid-organic",
   "metadata": {
    "execution": {
     "iopub.execute_input": "2021-07-05T14:03:58.035111Z",
     "iopub.status.busy": "2021-07-05T14:03:58.034448Z",
     "iopub.status.idle": "2021-07-05T14:04:32.138455Z",
     "shell.execute_reply": "2021-07-05T14:04:32.138967Z",
     "shell.execute_reply.started": "2021-07-05T13:58:30.389587Z"
    },
    "papermill": {
     "duration": 34.137468,
     "end_time": "2021-07-05T14:04:32.139177",
     "exception": false,
     "start_time": "2021-07-05T14:03:58.001709",
     "status": "completed"
    },
    "tags": []
   },
   "outputs": [
    {
     "data": {
      "text/html": [
       "<div>\n",
       "<style scoped>\n",
       "    .dataframe tbody tr th:only-of-type {\n",
       "        vertical-align: middle;\n",
       "    }\n",
       "\n",
       "    .dataframe tbody tr th {\n",
       "        vertical-align: top;\n",
       "    }\n",
       "\n",
       "    .dataframe thead th {\n",
       "        text-align: right;\n",
       "    }\n",
       "</style>\n",
       "<table border=\"1\" class=\"dataframe\">\n",
       "  <thead>\n",
       "    <tr style=\"text-align: right;\">\n",
       "      <th></th>\n",
       "      <th>scaler</th>\n",
       "      <th>accuracy</th>\n",
       "      <th>best_params</th>\n",
       "    </tr>\n",
       "  </thead>\n",
       "  <tbody>\n",
       "    <tr>\n",
       "      <th>0</th>\n",
       "      <td>StandardScaler</td>\n",
       "      <td>0.657895</td>\n",
       "      <td>{'model__C': 100, 'model__degree': 1, 'model__kernel': 'rbf'}</td>\n",
       "    </tr>\n",
       "    <tr>\n",
       "      <th>1</th>\n",
       "      <td>Normalizer</td>\n",
       "      <td>0.631579</td>\n",
       "      <td>{'model__C': 100, 'model__degree': 20, 'model__kernel': 'poly'}</td>\n",
       "    </tr>\n",
       "    <tr>\n",
       "      <th>2</th>\n",
       "      <td>MinMaxScaler</td>\n",
       "      <td>0.631579</td>\n",
       "      <td>{'model__C': 100, 'model__degree': 10, 'model__kernel': 'poly'}</td>\n",
       "    </tr>\n",
       "    <tr>\n",
       "      <th>3</th>\n",
       "      <td>RobustScaler</td>\n",
       "      <td>0.631579</td>\n",
       "      <td>{'model__C': 100, 'model__degree': 5, 'model__kernel': 'poly'}</td>\n",
       "    </tr>\n",
       "    <tr>\n",
       "      <th>4</th>\n",
       "      <td>No scaler</td>\n",
       "      <td>0.605263</td>\n",
       "      <td>{'model__C': 10, 'model__degree': 1, 'model__kernel': 'linear'}</td>\n",
       "    </tr>\n",
       "  </tbody>\n",
       "</table>\n",
       "</div>"
      ],
      "text/plain": [
       "           scaler  accuracy                                                      best_params\n",
       "0  StandardScaler  0.657895    {'model__C': 100, 'model__degree': 1, 'model__kernel': 'rbf'}\n",
       "1      Normalizer  0.631579  {'model__C': 100, 'model__degree': 20, 'model__kernel': 'poly'}\n",
       "2    MinMaxScaler  0.631579  {'model__C': 100, 'model__degree': 10, 'model__kernel': 'poly'}\n",
       "3    RobustScaler  0.631579   {'model__C': 100, 'model__degree': 5, 'model__kernel': 'poly'}\n",
       "4       No scaler  0.605263  {'model__C': 10, 'model__degree': 1, 'model__kernel': 'linear'}"
      ]
     },
     "execution_count": 19,
     "metadata": {},
     "output_type": "execute_result"
    }
   ],
   "source": [
    "model = SVC()\n",
    "params = {\n",
    "    'model__C': [0.1, 1, 10, 100],\n",
    "    'model__kernel': ['linear', 'poly', 'rbf', 'sigmoid'],\n",
    "    'model__degree': [1, 3, 5, 10, 20]\n",
    "}\n",
    "\n",
    "score_df = select_best_model('SVM', model, params)\n",
    "score_df[score_df.columns[:-1]]"
   ]
  },
  {
   "cell_type": "markdown",
   "id": "nonprofit-indiana",
   "metadata": {
    "papermill": {
     "duration": 0.025184,
     "end_time": "2021-07-05T14:04:32.189996",
     "exception": false,
     "start_time": "2021-07-05T14:04:32.164812",
     "status": "completed"
    },
    "tags": []
   },
   "source": [
    "# Conclusion"
   ]
  },
  {
   "cell_type": "code",
   "execution_count": 21,
   "id": "public-recommendation",
   "metadata": {
    "execution": {
     "iopub.execute_input": "2021-07-05T14:04:32.253337Z",
     "iopub.status.busy": "2021-07-05T14:04:32.252637Z",
     "iopub.status.idle": "2021-07-05T14:04:32.256032Z",
     "shell.execute_reply": "2021-07-05T14:04:32.256564Z",
     "shell.execute_reply.started": "2021-07-05T13:39:21.332762Z"
    },
    "papermill": {
     "duration": 0.041327,
     "end_time": "2021-07-05T14:04:32.256727",
     "exception": false,
     "start_time": "2021-07-05T14:04:32.215400",
     "status": "completed"
    },
    "tags": []
   },
   "outputs": [
    {
     "data": {
      "text/html": [
       "<div>\n",
       "<style scoped>\n",
       "    .dataframe tbody tr th:only-of-type {\n",
       "        vertical-align: middle;\n",
       "    }\n",
       "\n",
       "    .dataframe tbody tr th {\n",
       "        vertical-align: top;\n",
       "    }\n",
       "\n",
       "    .dataframe thead th {\n",
       "        text-align: right;\n",
       "    }\n",
       "</style>\n",
       "<table border=\"1\" class=\"dataframe\">\n",
       "  <thead>\n",
       "    <tr style=\"text-align: right;\">\n",
       "      <th></th>\n",
       "      <th>model</th>\n",
       "      <th>accuracy</th>\n",
       "    </tr>\n",
       "  </thead>\n",
       "  <tbody>\n",
       "    <tr>\n",
       "      <th>0</th>\n",
       "      <td>Decision Tree</td>\n",
       "      <td>0.736842</td>\n",
       "    </tr>\n",
       "    <tr>\n",
       "      <th>1</th>\n",
       "      <td>Gradient Boosting</td>\n",
       "      <td>0.736842</td>\n",
       "    </tr>\n",
       "    <tr>\n",
       "      <th>2</th>\n",
       "      <td>Neural Network</td>\n",
       "      <td>0.710526</td>\n",
       "    </tr>\n",
       "    <tr>\n",
       "      <th>3</th>\n",
       "      <td>Random Forest</td>\n",
       "      <td>0.710526</td>\n",
       "    </tr>\n",
       "    <tr>\n",
       "      <th>4</th>\n",
       "      <td>SVM</td>\n",
       "      <td>0.657895</td>\n",
       "    </tr>\n",
       "    <tr>\n",
       "      <th>5</th>\n",
       "      <td>SVM</td>\n",
       "      <td>0.657895</td>\n",
       "    </tr>\n",
       "    <tr>\n",
       "      <th>6</th>\n",
       "      <td>SVM</td>\n",
       "      <td>0.657895</td>\n",
       "    </tr>\n",
       "    <tr>\n",
       "      <th>7</th>\n",
       "      <td>Logistic Regression</td>\n",
       "      <td>0.631579</td>\n",
       "    </tr>\n",
       "    <tr>\n",
       "      <th>8</th>\n",
       "      <td>LDA</td>\n",
       "      <td>0.605263</td>\n",
       "    </tr>\n",
       "  </tbody>\n",
       "</table>\n",
       "</div>"
      ],
      "text/plain": [
       "                 model  accuracy\n",
       "0        Decision Tree  0.736842\n",
       "1    Gradient Boosting  0.736842\n",
       "2       Neural Network  0.710526\n",
       "3        Random Forest  0.710526\n",
       "4                  SVM  0.657895\n",
       "5                  SVM  0.657895\n",
       "6                  SVM  0.657895\n",
       "7  Logistic Regression  0.631579\n",
       "8                  LDA  0.605263"
      ]
     },
     "execution_count": 21,
     "metadata": {},
     "output_type": "execute_result"
    }
   ],
   "source": [
    "model_scores.sort(key=lambda item: -item[1])\n",
    "model_df = pd.DataFrame(model_scores, columns=['model', 'accuracy'])\n",
    "model_df"
   ]
  },
  {
   "cell_type": "code",
   "execution_count": null,
   "id": "widespread-panel",
   "metadata": {
    "papermill": {
     "duration": 0.025312,
     "end_time": "2021-07-05T14:04:32.307114",
     "exception": false,
     "start_time": "2021-07-05T14:04:32.281802",
     "status": "completed"
    },
    "tags": []
   },
   "outputs": [],
   "source": []
  },
  {
   "cell_type": "code",
   "execution_count": null,
   "id": "3e9b0651",
   "metadata": {},
   "outputs": [],
   "source": []
  },
  {
   "cell_type": "code",
   "execution_count": null,
   "id": "0cf827ad",
   "metadata": {},
   "outputs": [],
   "source": []
  }
 ],
 "metadata": {
  "kernelspec": {
   "display_name": "Python 3 (ipykernel)",
   "language": "python",
   "name": "python3"
  },
  "language_info": {
   "codemirror_mode": {
    "name": "ipython",
    "version": 3
   },
   "file_extension": ".py",
   "mimetype": "text/x-python",
   "name": "python",
   "nbconvert_exporter": "python",
   "pygments_lexer": "ipython3",
   "version": "3.9.13"
  },
  "papermill": {
   "default_parameters": {},
   "duration": 316.882276,
   "end_time": "2021-07-05T14:04:33.674670",
   "environment_variables": {},
   "exception": null,
   "input_path": "__notebook__.ipynb",
   "output_path": "__notebook__.ipynb",
   "parameters": {},
   "start_time": "2021-07-05T13:59:16.792394",
   "version": "2.3.3"
  }
 },
 "nbformat": 4,
 "nbformat_minor": 5
}
